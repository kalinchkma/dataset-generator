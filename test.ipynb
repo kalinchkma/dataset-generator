{
 "cells": [
  {
   "cell_type": "code",
   "execution_count": 1,
   "id": "782482af",
   "metadata": {},
   "outputs": [],
   "source": [
    "import pandas as pd\n",
    "import numpy as np\n",
    "import matplotlib.pyplot as plt\n",
    "from PIL import Image"
   ]
  },
  {
   "cell_type": "code",
   "execution_count": 2,
   "id": "e27ed5e5",
   "metadata": {},
   "outputs": [
    {
     "data": {
      "text/html": [
       "<div>\n",
       "<style scoped>\n",
       "    .dataframe tbody tr th:only-of-type {\n",
       "        vertical-align: middle;\n",
       "    }\n",
       "\n",
       "    .dataframe tbody tr th {\n",
       "        vertical-align: top;\n",
       "    }\n",
       "\n",
       "    .dataframe thead th {\n",
       "        text-align: right;\n",
       "    }\n",
       "</style>\n",
       "<table border=\"1\" class=\"dataframe\">\n",
       "  <thead>\n",
       "    <tr style=\"text-align: right;\">\n",
       "      <th></th>\n",
       "      <th>id</th>\n",
       "      <th>image_name</th>\n",
       "      <th>dynasty</th>\n",
       "      <th>coin_type</th>\n",
       "      <th>details</th>\n",
       "      <th>label</th>\n",
       "    </tr>\n",
       "  </thead>\n",
       "  <tbody>\n",
       "    <tr>\n",
       "      <th>0</th>\n",
       "      <td>0</td>\n",
       "      <td>Skanda-4865A-654.50-obverse.jpg</td>\n",
       "      <td>0</td>\n",
       "      <td>0</td>\n",
       "      <td>King standing and holding an Indian long bow i...</td>\n",
       "      <td>0</td>\n",
       "    </tr>\n",
       "    <tr>\n",
       "      <th>1</th>\n",
       "      <td>1</td>\n",
       "      <td>Skanda-4865A-654.50-reverse.jpg</td>\n",
       "      <td>0</td>\n",
       "      <td>0</td>\n",
       "      <td>Lakshmi seated facing, holding long-stemmed lo...</td>\n",
       "      <td>0</td>\n",
       "    </tr>\n",
       "    <tr>\n",
       "      <th>2</th>\n",
       "      <td>2</td>\n",
       "      <td>Skanda-4865-148.06-obverse.jpg</td>\n",
       "      <td>0</td>\n",
       "      <td>0</td>\n",
       "      <td>King standing and holding an Indian long bow i...</td>\n",
       "      <td>0</td>\n",
       "    </tr>\n",
       "    <tr>\n",
       "      <th>3</th>\n",
       "      <td>3</td>\n",
       "      <td>Skanda-4865-148.06-reverse.jpg</td>\n",
       "      <td>0</td>\n",
       "      <td>0</td>\n",
       "      <td>Lakshmi seated facing, holding long-stemmed lo...</td>\n",
       "      <td>0</td>\n",
       "    </tr>\n",
       "    <tr>\n",
       "      <th>4</th>\n",
       "      <td>4</td>\n",
       "      <td>Skanda-4866-421.04-obverse.jpg</td>\n",
       "      <td>0</td>\n",
       "      <td>0</td>\n",
       "      <td>King standing at left, facing right and holdin...</td>\n",
       "      <td>0</td>\n",
       "    </tr>\n",
       "    <tr>\n",
       "      <th>5</th>\n",
       "      <td>5</td>\n",
       "      <td>Skanda-4866-421.04-reverse.jpg</td>\n",
       "      <td>0</td>\n",
       "      <td>0</td>\n",
       "      <td>Lakshmi seated facing, holding long-stemmed lo...</td>\n",
       "      <td>0</td>\n",
       "    </tr>\n",
       "  </tbody>\n",
       "</table>\n",
       "</div>"
      ],
      "text/plain": [
       "   id                       image_name  dynasty  coin_type  \\\n",
       "0   0  Skanda-4865A-654.50-obverse.jpg        0          0   \n",
       "1   1  Skanda-4865A-654.50-reverse.jpg        0          0   \n",
       "2   2   Skanda-4865-148.06-obverse.jpg        0          0   \n",
       "3   3   Skanda-4865-148.06-reverse.jpg        0          0   \n",
       "4   4   Skanda-4866-421.04-obverse.jpg        0          0   \n",
       "5   5   Skanda-4866-421.04-reverse.jpg        0          0   \n",
       "\n",
       "                                             details  label  \n",
       "0  King standing and holding an Indian long bow i...      0  \n",
       "1  Lakshmi seated facing, holding long-stemmed lo...      0  \n",
       "2  King standing and holding an Indian long bow i...      0  \n",
       "3  Lakshmi seated facing, holding long-stemmed lo...      0  \n",
       "4  King standing at left, facing right and holdin...      0  \n",
       "5  Lakshmi seated facing, holding long-stemmed lo...      0  "
      ]
     },
     "execution_count": 2,
     "metadata": {},
     "output_type": "execute_result"
    }
   ],
   "source": [
    "df = pd.read_csv(\"./data.csv\")\n",
    "df"
   ]
  },
  {
   "cell_type": "code",
   "execution_count": 4,
   "id": "28764c71",
   "metadata": {},
   "outputs": [],
   "source": [
    "from main import createData"
   ]
  },
  {
   "cell_type": "code",
   "execution_count": 5,
   "id": "67eeab6d",
   "metadata": {},
   "outputs": [
    {
     "name": "stdout",
     "output_type": "stream",
     "text": [
      "{'id': [0, 1, 2, 3, 4, 5], 'image_name': ['Skanda-4865A-654.50-obverse.jpg', 'Skanda-4865A-654.50-reverse.jpg', 'Skanda-4865-148.06-obverse.jpg', 'Skanda-4865-148.06-reverse.jpg', 'Skanda-4866-421.04-obverse.jpg', 'Skanda-4866-421.04-reverse.jpg'], 'dynasty': [0, 0, 0, 0, 0, 0], 'coin_type': [0, 0, 0, 0, 0, 0], 'details': ['King standing and holding an Indian long bow in his left hand and an arrow in his right Garuda standard at left;Brāhmī legend under arm: skanda', 'Lakshmi seated facing, holding long-stemmed lotus and diadem;Brāhmī legend at right: sri skandaguptah;circular Brāhmī legend around', 'King standing and holding an Indian long bow in his left hand and an arrow in his right Garuda standard at left;Brāhmī legend under arm: skanda;circular Brāhmī legend around', 'Lakshmi seated facing, holding long-stemmed lotus and diadem;Brāhmī legend at right: kramadityah', 'King standing at left, facing right and holding an Indian long bow in his left hand and an arrow in his right hand, Lakshmi standing at right, facing left and offering an indistinct object to the king Garuda standard between the two figures,', 'Lakshmi seated facing, holding long-stemmed lotus and diadem;Brāhmī legend at right: sri skandaguptah;circular Brāhmī legend around'], 'label': [0, 0, 0, 0, 0, 0]}\n"
     ]
    }
   ],
   "source": [
    "data, label, dynasty, coin_type = createDataFrame()\n",
    "print(data)"
   ]
  },
  {
   "cell_type": "code",
   "execution_count": 6,
   "id": "cd7d45a8",
   "metadata": {},
   "outputs": [],
   "source": [
    "df = pd.DataFrame(data=data)"
   ]
  },
  {
   "cell_type": "code",
   "execution_count": 7,
   "id": "a8b9ca9d",
   "metadata": {},
   "outputs": [
    {
     "data": {
      "text/html": [
       "<div>\n",
       "<style scoped>\n",
       "    .dataframe tbody tr th:only-of-type {\n",
       "        vertical-align: middle;\n",
       "    }\n",
       "\n",
       "    .dataframe tbody tr th {\n",
       "        vertical-align: top;\n",
       "    }\n",
       "\n",
       "    .dataframe thead th {\n",
       "        text-align: right;\n",
       "    }\n",
       "</style>\n",
       "<table border=\"1\" class=\"dataframe\">\n",
       "  <thead>\n",
       "    <tr style=\"text-align: right;\">\n",
       "      <th></th>\n",
       "      <th>id</th>\n",
       "      <th>image_name</th>\n",
       "      <th>dynasty</th>\n",
       "      <th>coin_type</th>\n",
       "      <th>details</th>\n",
       "      <th>label</th>\n",
       "    </tr>\n",
       "  </thead>\n",
       "  <tbody>\n",
       "    <tr>\n",
       "      <th>0</th>\n",
       "      <td>0</td>\n",
       "      <td>Skanda-4865A-654.50-obverse.jpg</td>\n",
       "      <td>0</td>\n",
       "      <td>0</td>\n",
       "      <td>King standing and holding an Indian long bow i...</td>\n",
       "      <td>0</td>\n",
       "    </tr>\n",
       "    <tr>\n",
       "      <th>1</th>\n",
       "      <td>1</td>\n",
       "      <td>Skanda-4865A-654.50-reverse.jpg</td>\n",
       "      <td>0</td>\n",
       "      <td>0</td>\n",
       "      <td>Lakshmi seated facing, holding long-stemmed lo...</td>\n",
       "      <td>0</td>\n",
       "    </tr>\n",
       "    <tr>\n",
       "      <th>2</th>\n",
       "      <td>2</td>\n",
       "      <td>Skanda-4865-148.06-obverse.jpg</td>\n",
       "      <td>0</td>\n",
       "      <td>0</td>\n",
       "      <td>King standing and holding an Indian long bow i...</td>\n",
       "      <td>0</td>\n",
       "    </tr>\n",
       "    <tr>\n",
       "      <th>3</th>\n",
       "      <td>3</td>\n",
       "      <td>Skanda-4865-148.06-reverse.jpg</td>\n",
       "      <td>0</td>\n",
       "      <td>0</td>\n",
       "      <td>Lakshmi seated facing, holding long-stemmed lo...</td>\n",
       "      <td>0</td>\n",
       "    </tr>\n",
       "    <tr>\n",
       "      <th>4</th>\n",
       "      <td>4</td>\n",
       "      <td>Skanda-4866-421.04-obverse.jpg</td>\n",
       "      <td>0</td>\n",
       "      <td>0</td>\n",
       "      <td>King standing at left, facing right and holdin...</td>\n",
       "      <td>0</td>\n",
       "    </tr>\n",
       "    <tr>\n",
       "      <th>5</th>\n",
       "      <td>5</td>\n",
       "      <td>Skanda-4866-421.04-reverse.jpg</td>\n",
       "      <td>0</td>\n",
       "      <td>0</td>\n",
       "      <td>Lakshmi seated facing, holding long-stemmed lo...</td>\n",
       "      <td>0</td>\n",
       "    </tr>\n",
       "  </tbody>\n",
       "</table>\n",
       "</div>"
      ],
      "text/plain": [
       "   id                       image_name  dynasty  coin_type  \\\n",
       "0   0  Skanda-4865A-654.50-obverse.jpg        0          0   \n",
       "1   1  Skanda-4865A-654.50-reverse.jpg        0          0   \n",
       "2   2   Skanda-4865-148.06-obverse.jpg        0          0   \n",
       "3   3   Skanda-4865-148.06-reverse.jpg        0          0   \n",
       "4   4   Skanda-4866-421.04-obverse.jpg        0          0   \n",
       "5   5   Skanda-4866-421.04-reverse.jpg        0          0   \n",
       "\n",
       "                                             details  label  \n",
       "0  King standing and holding an Indian long bow i...      0  \n",
       "1  Lakshmi seated facing, holding long-stemmed lo...      0  \n",
       "2  King standing and holding an Indian long bow i...      0  \n",
       "3  Lakshmi seated facing, holding long-stemmed lo...      0  \n",
       "4  King standing at left, facing right and holdin...      0  \n",
       "5  Lakshmi seated facing, holding long-stemmed lo...      0  "
      ]
     },
     "execution_count": 7,
     "metadata": {},
     "output_type": "execute_result"
    }
   ],
   "source": [
    "df"
   ]
  },
  {
   "cell_type": "code",
   "execution_count": null,
   "id": "5f143e40",
   "metadata": {},
   "outputs": [],
   "source": []
  }
 ],
 "metadata": {
  "kernelspec": {
   "display_name": "Python 3 (ipykernel)",
   "language": "python",
   "name": "python3"
  },
  "language_info": {
   "codemirror_mode": {
    "name": "ipython",
    "version": 3
   },
   "file_extension": ".py",
   "mimetype": "text/x-python",
   "name": "python",
   "nbconvert_exporter": "python",
   "pygments_lexer": "ipython3",
   "version": "3.11.4"
  }
 },
 "nbformat": 4,
 "nbformat_minor": 5
}
